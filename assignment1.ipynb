{
 "cells": [
  {
   "cell_type": "markdown",
   "id": "64f218a4-26d7-4aba-90d4-c4a4517bb3fa",
   "metadata": {
    "deletable": false,
    "editable": false,
    "slideshow": {
     "slide_type": ""
    },
    "tags": []
   },
   "source": [
    "# Welcome to assignment 1: Exhaustive Search & Backtracking\n",
    "\n",
    "## Build a Sudoku Solver\n",
    "\n",
    "In this week's programming assignment, you will be working on a sudoku solver. Throughout the assignment, you will step by step build this sudoku solver. You do not need to copy the code, it is enough to work in the cell under each assignment. Note that there are separate cells provided where you can (and should) test your code. During the assignment, you will (through customMagics) obtain a Python file (.py) which you should run against a set of unittests. Please avoid writing any unnecessary code in cells containing the `%%execwritefile` command. Doing this could alter the file `.py` and make it syntactically incorrect or interfere with the unittests. To prevent this stick to the following rules:'\n",
    " - ***Do not remove cells that start with ``%%execwritefile`` and do not remove that line.***\n",
    " - If a cell contains a `%%execwritefile` command at the top and a class definition you need to complete the given methods and adding helper methods is allowed, but do **not** add new functions or Python script to the cells (like global variables).\n",
    " - If a cell contains a `%%execwritefile` command at the top and **not** a class definition you must complete the given functions and you are free to add helper functions, new classes, and Python script that contains for example global variables. Note, that the use of global variables is almost always wrong except for a few use cases such as RNG for the numpy random generator methods.\n",
    " - If a cell does **not** contain a `%%execwritefile` command you can plot things, print variables, and write test cases. Here, you are free to do whatever you want.\n",
    " - If a cell does **not** contain a `%%execwritefile` command it should not contain functional code that is needed to run other functions or classes. The reason is that it is not copied to the `.py`. So, it can not be used during the unittesting.\n",
    "\n",
    "You do not need to look at the customMagic.py nor do more than glimpse at the test file, your assignment is contained in this workbook unless specified differently in this notebook's instructions. \n",
    "\n",
    "This assignment is given as a Jupyter notebook, you might run this in your browser by starting a notebook server or through VScode (PyCharm only allows for read-only mode for jupyter notebooks, unless you have Pycharm-pro which is a paid version or you need a student license). The simplest way to [install jupyter](https://docs.jupyter.org/en/latest/install/notebook-classic.html) notebooks is by installing [Anaconda](https://docs.anaconda.com/free/anaconda/install/), a custom python distribution and packagemanager used for Data Science. If you do not want to install all of Anaconda you can also install jupyter via pip: ``pip3 install jupyter`` (`pip3` or `pip` will work depending on how you installed python3). You can find a tutorial for running the notebook [here](https://jupyter-notebook.readthedocs.io/en/latest/notebook.html). With VScode the IDE should guide you in installing the correct packages. \n",
    "\n",
    "***Hint: Jupyter Notebooks saves variables between runs. If you get unexpected results try restarting the kernel, this deletes any saved variables.*** \n",
    "\n",
    "### Some Additional Rules:\n",
    "\n",
    " - You are not allowed to change the given code. This includes attribute names, method names, arguments, etc.\n",
    " - You are not allowed to import other modules than the one provided.\n",
    " - You are allowed to add functions yourself if you feel that that makes it easier. Note, however, that points are deducted if we think that they are unnecessary. Make sure to document these consistently.\n",
    " - Read the written documentation about the functions you need to implement, they tell you what to do. Most of these functions require less than 10 lines of code.\n",
    " - A few sudoku grids are given as .txt files. Use these to test your code. You are allowed to add more test files.\n",
    " - In the end, you can run unittests as an extra check that your code works. You are free to add additional unittests.\n",
    " - If your program does not succeed on all unittests that are provided, it is likely that there is still a problem in your code. Make sure that all unittests succeed, before submitting the code.\n",
    " - Also keep in mind that all unit tests should be able to run within a matter of seconds on any computer.\n",
    "\n",
    "Please fill in your student name down below "
   ]
  },
  {
   "cell_type": "code",
   "execution_count": null,
   "id": "79b32519-c82d-4aa9-9093-f324c99cefb3",
   "metadata": {
    "editable": true,
    "slideshow": {
     "slide_type": ""
    },
    "tags": []
   },
   "outputs": [],
   "source": [
    "# FILL IN YOU STUDENT NUMBER\n",
    "student = 1000000\n",
    "\n",
    "# Set this to false if you want the default screen width.\n",
    "WIDE_SCREEN = True"
   ]
  },
  {
   "cell_type": "code",
   "execution_count": null,
   "id": "a3cfc620-efce-4e89-9baf-91f22bc4318a",
   "metadata": {
    "editable": false,
    "slideshow": {
     "slide_type": ""
    },
    "tags": []
   },
   "outputs": [],
   "source": [
    "from custommagics import CustomMagics\n",
    "\n",
    "if WIDE_SCREEN:\n",
    "    import notebook\n",
    "    from IPython.display import display, HTML\n",
    "\n",
    "    if int(notebook.__version__.split(\".\")[0]) >= 7:    \n",
    "        display(HTML(\n",
    "            '<style>'\n",
    "                '.jp-Notebook { padding-left: 1% !important; padding-right: 1% !important; width:100% !important; } '\n",
    "            '</style>'\n",
    "        ))\n",
    "    else:\n",
    "        display(HTML(\"<style>.container { width:98% !important; }</style>\"))\n",
    "\n",
    "get_ipython().register_magics(CustomMagics)"
   ]
  },
  {
   "cell_type": "code",
   "execution_count": null,
   "id": "01d874e2-8baf-4a43-b10e-811cde0bc5ed",
   "metadata": {
    "editable": false,
    "slideshow": {
     "slide_type": ""
    },
    "tags": []
   },
   "outputs": [],
   "source": [
    "%%execwritefile assignment1_{student}_notebook.py 0 \n",
    "\n",
    "# DO NOT CHANGE THIS CELL.\n",
    "# THESE ARE THE ONLY IMPORTS YOU ARE ALLOWED TO USE:\n",
    "\n",
    "import numpy as np\n",
    "import copy\n",
    "\n",
    "RNG = np.random.default_rng()"
   ]
  },
  {
   "cell_type": "markdown",
   "id": "3b3495c1-629c-42a6-95c6-39ef959fca82",
   "metadata": {
    "editable": false,
    "slideshow": {
     "slide_type": ""
    },
    "tags": []
   },
   "source": [
    "## CSPs \n",
    "\n",
    "Many real-world problems can be formulated as [Constraint Satisfaction Problems (CSPs)](https://en.wikipedia.org/wiki/Constraint_satisfaction_problem#:~:text=Constraint%20satisfaction%20problems%20(CSPs)%20are,solved%20by%20constraint%20satisfaction%20methods.), where\n",
    "we have a set of constraints that a valid solution must satisfy. Examples of such CSPs include\n",
    "planning and scheduling problems, but also the n-Queens problem, crossword puzzles, and\n",
    "sudokus. In this assignment, you will program a recursive exhaustive search algorithm\n",
    "that aims to find solutions for the sudoku described below.\n",
    "\n",
    "### Sudoku Description\n",
    "\n",
    "A sudoku is a puzzle where you have a $n \\times n$ 2D grid where each row, column, and box needs to contain the numbers 1 to n. A box is a $\\sqrt{n} \\times \\sqrt{n}$ grid inside the nxn grid. For more information about sudokus read the [wiki page](https://en.wikipedia.org/wiki/Sudoku). Make sure you understand the problem before continuing reading. Below, you can find an image of a traditional 9x9 sudoku with the following naming conventions, the rows are red, the columns blue and the boxes are green.\n",
    "\n",
    "![sudoku.png](sudoku.png)\n",
    "\n",
    "## 1.0 Initialize The Sudoku Class\n",
    "\n",
    "In the cell below, you start implementing the sudoku solver. To start, study how this class works, and ensure you thoroughly study the docstrings to get a clear idea of how the class ought to be implemented. \n",
    "\n",
    "Your task is to complete the `__repr__` magic method. This is for easier bug fixing. For example, if you want to print the sudoku to see if your code works it does not help if you get a memory address. \n",
    "There is no format that you need to adhere to nor is this mandatory."
   ]
  },
  {
   "cell_type": "code",
   "execution_count": null,
   "id": "a9378155-58df-4605-b576-557af7ddba26",
   "metadata": {
    "editable": true,
    "slideshow": {
     "slide_type": ""
    },
    "tags": []
   },
   "outputs": [],
   "source": [
    "%%execwritefile assignment1_{student}_notebook.py 10 -a -s\n",
    "\n",
    "class Sudoku():\n",
    "    \"\"\"\n",
    "    This class creates sudoku objects which can be used to solve sudokus. \n",
    "    A sudoku object can be any size grid, as long as the square root of the size is a whole integer.\n",
    "    To indicate that a cell in the sudoku grid is empty we use a zero.\n",
    "    A sudoku object is initialized with an empty grid of a certain size.\n",
    "\n",
    "    Attributes:\n",
    "        :param self.grid: The sudoku grid containing all the digits.\n",
    "        :type self.grid: np.ndarray[(Any, Any), int]  # The first type hint is the shape, and the second one is the dtype. \n",
    "        :param self.size: The width/height of the sudoku grid.\n",
    "        :type self.size: int\n",
    "    \"\"\"\n",
    "    def __init__(self, size=9):\n",
    "        self.grid = np.zeros((size, size))\n",
    "        self.size = size\n",
    "        \n",
    "    def __repr__(self):\n",
    "        \"\"\"\n",
    "        This returns a representation of a Sudoku object.\n",
    "\n",
    "        :return: A string representing the Sudoku object.\n",
    "        :rtype: str\n",
    "        \"\"\"\n",
    "        # Change this to anything you like, such that you can easily print a Sudoku object.\n",
    "        return super(Sudoku, self).__repr__() "
   ]
  },
  {
   "cell_type": "markdown",
   "id": "fdeaec18-70b3-4fb9-95bc-73dada67fd1e",
   "metadata": {
    "editable": false,
    "slideshow": {
     "slide_type": ""
    },
    "tags": []
   },
   "source": [
    "### Test your code\n",
    "\n",
    "In the cell below you can test your code from the cell above (ensure you run the cell beforehand) to validate if `__repr__` works as you intended.\n",
    "To do this create a `Sudoku` object and print it."
   ]
  },
  {
   "cell_type": "code",
   "execution_count": null,
   "id": "16b2b1c5-aa6d-4d70-9570-501dd6fb5274",
   "metadata": {
    "editable": true,
    "slideshow": {
     "slide_type": ""
    },
    "tags": []
   },
   "outputs": [],
   "source": [
    "Sudoku()  # jupyter notebook cells always print the return of the last line of code. So `a=3` will not print anything but `a` will print the variable a."
   ]
  },
  {
   "cell_type": "markdown",
   "id": "eec3bdb1-29e6-46ed-bb7b-638efcabeebe",
   "metadata": {
    "editable": false,
    "slideshow": {
     "slide_type": ""
    },
    "tags": []
   },
   "source": [
    "## 1.1 Make The Sudoku Class Testable\n",
    "\n",
    "While a lot of methods that we will implement can be tested using an empty grid, \n",
    "It is helpful to build something that can test if your code is performing the way it should by partially filling in the sudoku. \n",
    "To achieve this we need two things. A function that can read in some text files with partial sudokus and a method in the class sudoku that can set this initial state.\n",
    "\n",
    "This method will be part of the .py file that you hand in. However, this read function will not be part of your file. The reason for that is that we want you to learn to test your own code and not rely on given unittests. "
   ]
  },
  {
   "cell_type": "code",
   "execution_count": null,
   "id": "f24f5d57-0705-4ce5-983f-2f01886658e8",
   "metadata": {
    "editable": true,
    "slideshow": {
     "slide_type": ""
    },
    "tags": []
   },
   "outputs": [],
   "source": [
    "%%execwritefile assignment1_{student}_notebook.py 11 -a -s -c\n",
    "\n",
    "class Sudoku(Sudoku):\n",
    "    def set_grid(self, grid):\n",
    "        \"\"\"\n",
    "        This method sets a new grid. This also can change the size of the sudoku.\n",
    "\n",
    "        :param grid: A 2D numpy array that contains the digits for the grid.\n",
    "        :type grid: ndarray[(Any, Any), int]\n",
    "        \"\"\"\n",
    "        raise NotImplementedError(\"Please complete this method\")"
   ]
  },
  {
   "cell_type": "code",
   "execution_count": null,
   "id": "fe282662-df51-4012-b4ea-740d958c564a",
   "metadata": {
    "editable": true,
    "slideshow": {
     "slide_type": ""
    },
    "tags": []
   },
   "outputs": [],
   "source": [
    "def sudoku_file_to_object(filename):\n",
    "    \"\"\"\n",
    "    Open the text file and convert the raw string into a 2D sudoku grid.\n",
    "\n",
    "    :return: A Sudoku object containing the grid that is in the file.\n",
    "    :rtype: Sudoku\n",
    "    \"\"\"\n",
    "    raise NotImplementedError(\"Please complete this method\")"
   ]
  },
  {
   "cell_type": "markdown",
   "id": "b6f1af1f-df06-4a7b-b597-c1efc656c57e",
   "metadata": {
    "editable": false,
    "slideshow": {
     "slide_type": ""
    },
    "tags": []
   },
   "source": [
    "### Test your code\n",
    "\n",
    "In the cell below you can test your code from the cell above (ensure you run the cell beforehand). \n",
    "Test if your `sudoku_file_to_object` function works correctly. Don't forget to also test if the size is correct.\n",
    "Additionally, you can test if `set_grid` works separately instead of implicitly.\n",
    "\n",
    "In contrast to the exercises, here we will no longer give the almost full scripts to test your code. At most, we will give you one line of code to remind you to test your previous code.\n",
    "It is important that you write small scripts similar to what you have seen in the exercise problems, such that you solve all bugs when you create them. \n",
    "If you do not test your code before running the unittests you have a high risk of accumulating a nasty combination of bugs which makes it hard to bugfix."
   ]
  },
  {
   "cell_type": "code",
   "execution_count": null,
   "id": "eb530824-b44d-4c9c-a691-85fd90fc4889",
   "metadata": {
    "editable": true,
    "slideshow": {
     "slide_type": ""
    },
    "tags": []
   },
   "outputs": [],
   "source": [
    "sudoku_file_to_object(\"small_test.txt\")"
   ]
  },
  {
   "cell_type": "markdown",
   "id": "4d202280-073c-49ee-a410-0131d83d1bf3",
   "metadata": {
    "editable": false,
    "slideshow": {
     "slide_type": ""
    },
    "tags": []
   },
   "source": [
    "## 1.2 Helper Methods\n",
    "\n",
    "Helper functions can make your code more structured and split problems into their separate subproblems. This also increase the readability of your code. Another benefit is that it also improves the testability of your class. This improvement can be mainly found in the fact that you can now test the helper function separately from other methods. For example, if your `get_box` does not retrieve the right slice of the grid then you will catch the mistake before using it in other methods. Again as said before, solving one bug is easier than a whole nest of bugs that all interact with each other.\n",
    "\n",
    "Below, you will implement `get_row`, `get_col`, and `get_box`."
   ]
  },
  {
   "cell_type": "code",
   "execution_count": null,
   "id": "c845f94d-04fe-4faf-9035-0a8114f79ba3",
   "metadata": {
    "editable": true,
    "slideshow": {
     "slide_type": ""
    },
    "tags": []
   },
   "outputs": [],
   "source": [
    "%%execwritefile assignment1_{student}_notebook.py 12 -a -s -c\n",
    "\n",
    "class Sudoku(Sudoku):\n",
    "    def get_row(self, row_id):\n",
    "        \"\"\"\n",
    "        This method returns the row with index row_id.\n",
    "\n",
    "        :param row_id: The index of the row.\n",
    "        :type row_id: int\n",
    "        :return: A row of the sudoku.\n",
    "        :rtype: np.ndarray[(Any,), int]\n",
    "        \"\"\"\n",
    "        raise NotImplementedError(\"Please complete this method\")\n",
    "\n",
    "    def get_col(self, col_id):\n",
    "        \"\"\"\n",
    "        This method returns the column with index col_id.\n",
    "\n",
    "        :param col_id: The index of the column.\n",
    "        :type col_id: int\n",
    "        :return: A row of the sudoku.\n",
    "        :rtype: np.ndarray[(Any,), int]\n",
    "        \"\"\"\n",
    "        raise NotImplementedError(\"Please complete this method\")\n",
    "\n",
    "    def get_box_index(self, row, col):\n",
    "        \"\"\"\n",
    "        This returns the box index of a cell given the row and column index.\n",
    "        \n",
    "        :param col: The column index.\n",
    "        :type col: int\n",
    "        :param row: The row index.\n",
    "        :type row: int\n",
    "        :return: This returns the box index of a cell.\n",
    "        :rtype: int\n",
    "        \"\"\"\n",
    "        raise NotImplementedError(\"Please complete this method\")\n",
    "\n",
    "    def get_box(self, box_id):\n",
    "        \"\"\"\n",
    "        This method returns the \"box_id\" box.\n",
    "\n",
    "        :param box_id: The index of the sudoku box.\n",
    "        :type box_id: int\n",
    "        :return: A box of the sudoku.\n",
    "        :rtype: np.ndarray[(Any, Any), int]\n",
    "        \"\"\"\n",
    "        raise NotImplementedError(\"Please complete this method\")"
   ]
  },
  {
   "cell_type": "markdown",
   "id": "281503ad-03db-4ffb-81c2-d08a1ad2f642",
   "metadata": {
    "editable": false,
    "slideshow": {
     "slide_type": ""
    },
    "tags": []
   },
   "source": [
    "### Test your code\n",
    "\n",
    "In the cell below you can test your code from the cell above (ensure you run the cell beforehand).\n",
    "Test if your `get_row`, `get_col`, and `get_box`. methods works correctly. \n",
    "\n",
    "Just as a reminder: \\\n",
    "In contrast to the exercises, here we will no longer give the almost full scripts to test your code. At most, we will give you one line of code to remind you to test your previous code.\n",
    "It is important that you write small scripts similar to what you have seen in the exercise problems, such that you solve all bugs when you create them. \n",
    "If you do not test your code before running the unittests you have a high risk of accumulating a nasty combination of bugs which makes it hard to bugfix."
   ]
  },
  {
   "cell_type": "code",
   "execution_count": null,
   "id": "30651141-08f2-4728-af3b-88a3d96ee1ac",
   "metadata": {
    "editable": true,
    "slideshow": {
     "slide_type": ""
    },
    "tags": []
   },
   "outputs": [],
   "source": [
    "sudoku_file_to_object(\"small_test.txt\")"
   ]
  },
  {
   "cell_type": "markdown",
   "id": "8897603d-8f57-458a-9f4f-daee28e3d8ef",
   "metadata": {
    "editable": false,
    "slideshow": {
     "slide_type": ""
    },
    "tags": []
   },
   "source": [
    "## 1.3 Check Methods\n",
    "\n",
    "It is a good habit to split up one method that does multiple things into several methods that do one thing. Here, our end goal is to make a sudoku solver. While it is possible to have one method `solve` which does everything, it is much more readable, testable, and overall better practice to split up such large methods into smaller methods. \n",
    "\n",
    "In the cell below, we will implement various check methods that return if a set of numbers is unique (`is_set_correct`), if a cell is correct (`check_cell`), and if the (partial) sudoku is correct (`check_soduko`). Note, that not every method needs to be used right away, some are used later in the notebook."
   ]
  },
  {
   "cell_type": "code",
   "execution_count": null,
   "id": "463fd610-adac-4595-b7f0-a10264b02e99",
   "metadata": {
    "editable": true,
    "slideshow": {
     "slide_type": ""
    },
    "tags": []
   },
   "outputs": [],
   "source": [
    "%%execwritefile assignment1_{student}_notebook.py 13 -a -s -c\n",
    "\n",
    "class Sudoku(Sudoku):\n",
    "    @staticmethod\n",
    "    def is_set_correct(numbers):\n",
    "        \"\"\"\n",
    "        This method checks if a set (row, column, or box) is correct according to the rules of a sudoku.\n",
    "        In other words, this method checks if a set of numbers contains duplicate values between 1 and the size of the sudoku.\n",
    "        Note, that multiple empty cells are not considered duplicates.\n",
    "\n",
    "        :param numbers: The numbers of a sudoku's row, column, or box.\n",
    "        :type numbers: np.ndarray[(Any, Any), int] or np.ndarray[(Any, ), int]\n",
    "        :return: This method returns if the set is correct or not.\n",
    "        :rtype: Boolean\n",
    "        \"\"\"\n",
    "        raise NotImplementedError(\"Please complete this method\")\n",
    "\n",
    "    def check_cell(self, row, col):\n",
    "        \"\"\"\n",
    "        This method checks if the cell, denoted by row and column, is correct according to the rules of sudoku.\n",
    "        \n",
    "        :param col: The column index that is tested.\n",
    "        :type col: int\n",
    "        :param row: The row index that is tested.\n",
    "        :type row: int\n",
    "        :return: This method returns if the cell, denoted by row and column, is correct compared to the rest of the grid.\n",
    "        :rtype: boolean\n",
    "        \"\"\"\n",
    "        raise NotImplementedError(\"Please complete this method\")\n",
    "\n",
    "    def check_sudoku(self):\n",
    "        \"\"\"\n",
    "        This method checks, for all rows, columns, and boxes, if they are correct according to the rules of a sudoku.\n",
    "        In other words, this method checks, for all rows, columns, and boxes, if a set of numbers contains duplicate values between 1 and the size of the sudoku.\n",
    "        Note, that multiple empty cells are not considered duplicates.\n",
    "\n",
    "        Hint: It is not needed to check if every cell is correct to check if a complete sudoku is correct.\n",
    "\n",
    "        :return: This method returns if the (partial) Sudoku is correct.\n",
    "        :rtype: Boolean\n",
    "        \"\"\"\n",
    "        raise NotImplementedError(\"Please complete this method\")"
   ]
  },
  {
   "cell_type": "markdown",
   "id": "d87cef3d-e7e9-435d-8e8b-894e9ef56f16",
   "metadata": {
    "editable": false,
    "slideshow": {
     "slide_type": ""
    },
    "tags": []
   },
   "source": [
    "### Test your code\n",
    "\n",
    "In the cell below you can test your code from the cell above (ensure you run the cell beforehand). \n",
    "Test if all three methods (`is_set_correct`, `check_cell`, `check_soduko`) are correctly implemented before continuing to the next set of methods."
   ]
  },
  {
   "cell_type": "code",
   "execution_count": null,
   "id": "145d9c0a-10ce-4b98-8e56-436a68bd02e5",
   "metadata": {
    "editable": true,
    "slideshow": {
     "slide_type": ""
    },
    "tags": []
   },
   "outputs": [],
   "source": [
    "sudoku_file_to_object(\"small_test.txt\")"
   ]
  },
  {
   "cell_type": "markdown",
   "id": "29ad9988-d8ce-4c22-b002-7ecaa02ace09",
   "metadata": {
    "editable": false,
    "slideshow": {
     "slide_type": ""
    },
    "tags": []
   },
   "source": [
    "## 1.4 Exhaustive Search\n",
    "\n",
    "Now, that we have all the helper methods, we can start implementing the exhaustive search to solve a sudoku. Below, you will find various methods, please keep to the following rules including all the rules stated at the beginning of this file:\n",
    " - `solve` is already implemented, do not change this method.\n",
    " - You have to implement `step` which is the recursive part of the exhaustive search.\n",
    " - `next_step` and `clean_up` are not mandatory to use, these are some helper methods to structure your recursion. If you do not use them, leave them as is.\n",
    " - You are allowed to add extra **methods** if you feel that it helps you. Note, however, that points are deducted if we think that they are unnecessary. Make sure to document these consistently.\n",
    " - Just as a reminder, you are not allowed to add **functions** in the cell below or anything else outside the class sudoku.\n",
    " - Do not change the arguments of the methods, for now, you can ignore the default argument `backtracking`."
   ]
  },
  {
   "cell_type": "code",
   "execution_count": null,
   "id": "48e07868-092d-415f-8dd9-dc97cceda295",
   "metadata": {
    "editable": true,
    "slideshow": {
     "slide_type": ""
    },
    "tags": []
   },
   "outputs": [],
   "source": [
    "%%execwritefile assignment1_{student}_notebook.py 14 -a -s -c\n",
    "\n",
    "class Sudoku(Sudoku):\n",
    "    def step(self, row=0, col=0, backtracking=False):\n",
    "        \"\"\"\n",
    "        This is a recursive method that completes one step in the exhaustive search algorithm.\n",
    "        A step should contain at least, filling in one number in the sudoku and calling \"next_step\" to go to the next step.\n",
    "        If the current number for this step does not give a correct solution another number should be tried \n",
    "        and if no numbers work the previous step should be adjusted.\n",
    "        \n",
    "        Hint 1: Numbers, that are already filled in should not be overwritten.\n",
    "        Hint 2: Think about a base case.\n",
    "    \n",
    "        :param col: The current column index.\n",
    "        :type col: int\n",
    "        :param row: The current row index.\n",
    "        :type row: int\n",
    "        :param backtracking: This determines if backtracking is used. For now, this can be ignored. It defaults to False.\n",
    "        :type backtracking: boolean, optional\n",
    "        :return: This method returns if a correct solution can be found using this step.\n",
    "        :rtype: boolean\n",
    "        \"\"\"\n",
    "        raise NotImplementedError(\"Please complete this method\")\n",
    "\n",
    "    def next_step(self, row, col):\n",
    "        \"\"\"\n",
    "        This method calculates the next step in the recursive exhaustive search algorithm.\n",
    "        This method should only determine which cell should be filled in next.\n",
    "        \n",
    "        :param col: The current column index.\n",
    "        :type col: int\n",
    "        :param row: The current row index.\n",
    "        :type row: int\n",
    "        :param backtracking: This determines if backtracking is used. For now, this can be ignored. It defaults to False.\n",
    "        :type backtracking: boolean, optional\n",
    "        :return: This method returns if a correct solution can be found using this next step.\n",
    "        :rtype: boolean\n",
    "        \"\"\"\n",
    "        raise NotImplementedError(\"Please complete this method\")\n",
    "    \n",
    "    def clean_up(self, row, col):\n",
    "        \"\"\"\n",
    "        This method cleans up the current cell if no solution can be found for this cell.\n",
    "        \n",
    "        :param col: The current column index.\n",
    "        :type col: int\n",
    "        :param row: The current row index.\n",
    "        :type row: int\n",
    "        :return: This method returns if a correct solution can be found using this next step.\n",
    "        :rtype: boolean\n",
    "        \"\"\"\n",
    "        raise NotImplementedError(\"Please complete this method\")\n",
    "    \n",
    "    def solve(self, backtracking=False):\n",
    "        \"\"\"\n",
    "        Solve the sudoku using recursive exhaustive search.\n",
    "        This is done by calling the \"step\" method, which does one recursive step.\n",
    "        This can be visualized as a process tree, where \"step\" completes the functionality of of node.\n",
    "        \n",
    "        This method is already implemented and you do not have to do anything here.\n",
    "\n",
    "        :param backtracking: This determines if backtracking is used. For now, this can be ignored. It defaults to False.\n",
    "        :type backtracking: boolean, optional\n",
    "        :return: This method returns if a correct solution for the whole sudoku was found.\n",
    "        :rtype: boolean\n",
    "        \"\"\"\n",
    "        return self.step(backtracking=backtracking)"
   ]
  },
  {
   "cell_type": "markdown",
   "id": "9da99180-c09a-46d9-9f73-147c5d26a74f",
   "metadata": {
    "editable": false,
    "slideshow": {
     "slide_type": ""
    },
    "tags": []
   },
   "source": [
    "### Test your code\n",
    "\n",
    "In the cell below you can test your code from the cell above (ensure you run the cell beforehand). \n",
    "\n",
    "***Important, think about how big the state space is for a Sudoku of $n \\times n$ if completely empty! Would it be possible to run an exhaustive search on an empty $n \\times n$ grid and get a solution in real-time? In other words, think about the complexity of your algorithm and the size of the problem, thus if it will run in a few seconds.***\n",
    "\n",
    "Hint: While a sudoku of size 2 or 3 is not an official size because the boxes are not well-defined, you can use it to test your algorithm for a problem set with a reduced size."
   ]
  },
  {
   "cell_type": "code",
   "execution_count": null,
   "id": "3150c408-7a73-4ad9-8ffd-f048c6de52cb",
   "metadata": {
    "editable": true,
    "scrolled": true,
    "slideshow": {
     "slide_type": ""
    },
    "tags": []
   },
   "outputs": [],
   "source": [
    "sudoku_file_to_object(\"small_test.txt\").solve()"
   ]
  },
  {
   "cell_type": "markdown",
   "id": "a1fafe12-0bb7-47e7-977c-ffe8ab4b1951",
   "metadata": {
    "editable": false,
    "slideshow": {
     "slide_type": ""
    },
    "tags": []
   },
   "source": [
    "## 1.5 Backtracking\n",
    "\n",
    "Below, we will implement backtracking instead of an exhaustive search. This will help to find solutions for larger sudokus. Note, that this will be covered in lecture 5. In short the main difference is that backtracking does not wait till you find an end state to check if the solution is correct but also checks each partial solution (state) and if it is incorrect discard the state-space and all states that lead from there.\n",
    "\n",
    "***Important, in the cell below you will overwrite the methods implemented in the cell above. Therefore, even if the methods are the same you need to implement them again (copy-paste), otherwise your `.py` file will not work! Also, because you overwrite the methods the code below should work for both exhaustive search and backtracking.***\n",
    "\n",
    "Hint: The code for backtracking should almost be a direct copy-paste from the exhaustive search implemented above with approximately 2 extra lines of extra code."
   ]
  },
  {
   "cell_type": "code",
   "execution_count": null,
   "id": "984c8b3e-e83d-40d9-8e2b-f95e9d49439d",
   "metadata": {
    "editable": true,
    "slideshow": {
     "slide_type": ""
    },
    "tags": []
   },
   "outputs": [],
   "source": [
    "%%execwritefile assignment1_{student}_notebook.py 14 -a -s -c\n",
    "\n",
    "class Sudoku(Sudoku):       \n",
    "    def step(self, row=0, col=0, backtracking=False):\n",
    "        \"\"\"\n",
    "        This is a recursive method that completes one step in the exhaustive search algorithm.\n",
    "        A step should contain at least, filling in one number in the sudoku and calling \"next_step\" to go to the next step.\n",
    "        If the current number for this step does not give a correct solution another number should be tried \n",
    "        and if no numbers work the previous step should be adjusted.\n",
    "\n",
    "        This method should work for both backtracking and exhaustive search.\n",
    "        \n",
    "        Hint 1: Numbers, that are already filled in should not be overwritten.\n",
    "        Hint 2: Think about a base case.\n",
    "        Hint 3: The step method from the previous jupyter notebook cell can be copy-paste here and adjusted for backtracking.\n",
    "    \n",
    "        :param col: The current column index.\n",
    "        :type col: int\n",
    "        :param row: The current row index.\n",
    "        :type row: int\n",
    "        :param backtracking: This determines if backtracking is used, defaults to False.\n",
    "        :type backtracking: boolean, optional\n",
    "        :return: This method returns if a correct solution can be found using this step.\n",
    "        :rtype: boolean\n",
    "        \"\"\"\n",
    "        raise NotImplementedError(\"Please complete this method\")\n",
    "\n",
    "    def next_step(self, row, col, backtracking):\n",
    "        \"\"\"\n",
    "        This method calculates the next step in the recursive exhaustive search algorithm.\n",
    "        This method should only determine which cell should be filled in next.\n",
    "\n",
    "        This method should work for both backtracking and exhaustive search.\n",
    "        \n",
    "        :param col: The current column index.\n",
    "        :type col: int\n",
    "        :param row: The current row index.\n",
    "        :type row: int\n",
    "        :param backtracking: This determines if backtracking is used, defaults to False.\n",
    "        :type backtracking: boolean, optional\n",
    "        :return: This method returns if a correct solution can be found using this next step.\n",
    "        :rtype: boolean\n",
    "        \"\"\"\n",
    "        raise NotImplementedError(\"Please complete this method\")\n",
    "    \n",
    "    def clean_up(self, row, col):\n",
    "        \"\"\"\n",
    "        This method cleans up the current cell if no solution can be found for this cell.\n",
    "\n",
    "        This method should work for both backtracking and exhaustive search.\n",
    "        \n",
    "        :param col: The current column index.\n",
    "        :type col: int\n",
    "        :param row: The current row index.\n",
    "        :type row: int\n",
    "        :return: This method returns if a correct solution can be found using this next step.\n",
    "        :rtype: boolean\n",
    "        \"\"\"\n",
    "        raise NotImplementedError(\"Please complete this method\")\n",
    "    \n",
    "    def solve(self, backtracking=False):\n",
    "        \"\"\"\n",
    "        Solve the sudoku using recursive exhaustive search or backtracking.\n",
    "        This is done by calling the \"step\" method, which does one recursive step.\n",
    "        This can be visualized as a process tree, where \"step\" completes the functionality of of node.\n",
    "        \n",
    "        This method is already implemented and you do not have to do anything here.\n",
    "\n",
    "        :param backtracking: This determines if backtracking is used, defaults to False.\n",
    "        :type backtracking: boolean, optional\n",
    "        :return: This method returns if a correct solution for the whole sudoku was found.\n",
    "        :rtype: boolean\n",
    "        \"\"\"\n",
    "        return self.step(backtracking=backtracking)"
   ]
  },
  {
   "cell_type": "markdown",
   "id": "f77b6556-e9ab-4d05-b1bb-c44a25f218f6",
   "metadata": {
    "editable": false,
    "slideshow": {
     "slide_type": ""
    },
    "tags": []
   },
   "source": [
    "### Test your code\n",
    "\n",
    "In the cell below you can test your code from the cell above (ensure you run the cell beforehand). \n",
    "\n",
    "Note, that solve now has two options exhaustive search with or without backtracking."
   ]
  },
  {
   "cell_type": "code",
   "execution_count": null,
   "id": "11ebe17c-6580-46ff-a5a0-2207b5d86663",
   "metadata": {
    "editable": true,
    "scrolled": true,
    "slideshow": {
     "slide_type": ""
    },
    "tags": []
   },
   "outputs": [],
   "source": [
    "sudoku_file_to_object(\"small_test.txt\").solve(True)"
   ]
  },
  {
   "cell_type": "markdown",
   "id": "e6d35a5d-c22a-4178-b001-516a789a834f",
   "metadata": {
    "slideshow": {
     "slide_type": ""
    },
    "tags": []
   },
   "source": [
    "# UNITTESTS\n",
    "\n",
    "During this assignment, we copied all your code to the following **.py** file **\"assignment1_{student}_notebook.py\"**. You also tested your code along the way. However, it is possible that there are still a few errors. Therefore, it is good to run some unittest when you complete all coding. This gives you an extra chance to spot mistakes. Here, we added some unittest for you to use. Note, that they are not ***complete*** and that they are merely an indication if you are above or below a 6 (still no guarantee). \n",
    "\n",
    "From this point onwards we strongly advise renaming the **\"assignment1_{student}_notebook.py\"** file to the correct file name that you need to hand in **\"assignment1_{student}.py\"**. Now, you can adjust the **\"assignment1_{student}.py\"** file without the risk of overwriting it when you run the notebook again. This also enables the possibility to run the unittests. Note, that from now on you are done programming in the notebook and you need to adjust the **.py** file to fix bugs. To run the unittests go to the **\"unit_test.py\"** file and run the file in either PyCharm, VSCode, or a terminal. You can run it in a terminal using the following command: `python -m unittest --verbose unit_test.py`. `--verbose` is optional but gives you more details about which tests fail and which succeed.\n",
    "\n",
    "You are allowed to add your own unittests.\n",
    "\n",
    "***Do not forget to write Your Report! Instruction can be found below***\n",
    "\n",
    "# Report\n",
    "\n",
    "Write a report in LATEX(at most 3 pages) using the provided template (see Brightspace), addressing the following points/research questions:\n",
    " - Introduction: describe the problem. Describe a state and action explicitly in the context of this problem.\n",
    " - Explain the difference between exhaustive search and backtracking. What makes the implemented approach exhaustive search? How would you change to make it do backtracking instead?\n",
    " - Is there a difference in complexity between the implemented exhaustive search and backtracking? What are the complexities of both algorithms?\n",
    " - Draw the search tree of a small example that an exhaustive search traverses. Additionally, draw the same search tree, but then for backtracking. What can we conclude? Is backtracking optimal (guaranteed to find a solution if it exists)? You are allowed to draw this on paper and scan the result.\n",
    " - How could you make this algorithm even \"smarter\"?\n",
    " - How big is the state space for an $n \\times n$ sudoku and would it be possible to run an exhaustive search on an empty $9 \\times 9$ grid and get a solution in real-time (time you are willing to wait for the answer)?\n",
    " - Summary and Discussion. What was the goal of the assignment? What have you done and observed? (think about backtracking vs exhaustive search, optimality, running time, smart approaches vs exhaustive search and backtracking). Do not write about your personal experience and stories. Keep it scientific and simply summarize the report, making observations about the algorithms.\n",
    "\n",
    "## Work distribution\n",
    "\n",
    "At the end of the report, include a distribution of the work: who did what? By default, we\n",
    "give both group members the same grade, but in some extreme cases, we will adjust the grades according to the workload. The work distribution does not count towards the page limit.\n",
    "\n",
    "# Submission\n",
    "\n",
    "Submit your assignment through Brightspace by submitting the following files:\n",
    " - report.pdf (the report)\n",
    " - assignment1_{student}.py (your solution code)\n",
    " - assignment1.ipynb (backup if something goes wrong)\n",
    "   \n",
    "The deadline for this assignment is the 8 of April 2023, 23:59 CET."
   ]
  },
  {
   "cell_type": "code",
   "execution_count": null,
   "id": "4a9ac63d-c288-4d54-b8d8-44196a9c2de2",
   "metadata": {
    "editable": true,
    "slideshow": {
     "slide_type": ""
    },
    "tags": []
   },
   "outputs": [],
   "source": []
  }
 ],
 "metadata": {
  "kernelspec": {
   "display_name": "Python 3 (ipykernel)",
   "language": "python",
   "name": "python3"
  },
  "language_info": {
   "codemirror_mode": {
    "name": "ipython",
    "version": 3
   },
   "file_extension": ".py",
   "mimetype": "text/x-python",
   "name": "python",
   "nbconvert_exporter": "python",
   "pygments_lexer": "ipython3",
   "version": "3.11.5"
  }
 },
 "nbformat": 4,
 "nbformat_minor": 5
}
